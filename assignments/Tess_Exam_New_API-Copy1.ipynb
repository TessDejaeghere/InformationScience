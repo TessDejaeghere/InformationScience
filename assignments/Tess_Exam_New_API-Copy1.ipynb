{
 "cells": [
  {
   "cell_type": "code",
   "execution_count": 1,
   "metadata": {},
   "outputs": [],
   "source": [
    "#NECESSARY PACKAGES! \n",
    "\n",
    "#!pip install rich\n",
    "#!pip install tqdm"
   ]
  },
  {
   "cell_type": "code",
   "execution_count": 2,
   "metadata": {},
   "outputs": [],
   "source": [
    "import urllib.request \n",
    "import urllib.parse\n",
    "import re\n",
    "\n",
    "import json\n",
    "import urllib\n",
    "import xmltodict\n",
    "\n",
    "from xml.etree import ElementTree\n",
    "import xml.etree.ElementTree as ET\n",
    "\n",
    "import re\n",
    "import time\n",
    "import rich\n",
    "from rich import print\n",
    "from tqdm.auto import tqdm\n",
    "\n",
    "from PIL import Image\n",
    "import requests\n",
    "from io import BytesIO\n",
    "\n",
    "import matplotlib.pyplot as plt\n",
    "import matplotlib.image as mpimg"
   ]
  },
  {
   "cell_type": "code",
   "execution_count": 3,
   "metadata": {},
   "outputs": [],
   "source": [
    "#Prints a fancy header!\n",
    "def print_header():\n",
    "    print(\"[blue]------------------------------------------------------------[/blue]\")\n",
    "    print(\"            [bold green]THE DBPEDIA [bold cyan]BOOK[/bold cyan] LOOKUP TOOL[/bold green]\")\n",
    "    print(\"[blue]------------------------------------------------------------[/blue]\")\n",
    "    \n",
    "    \n",
    "    print(\"[u][bold]How does this search method work?[/bold][/u]\")\n",
    "    print(\"[bold]Key word search[/bold]: Search on key words or incomplete titles. This method is not case-sensitive.\")\n",
    "    print(\"[bold]Title search[/bold]: Search on complete titles. This method is [bold]case-sensitive[/bold]!\")\n",
    "    \n",
    "    print(\"_____________________________________________________________________\")"
   ]
  },
  {
   "cell_type": "code",
   "execution_count": 4,
   "metadata": {},
   "outputs": [],
   "source": [
    "#Asks the user if he/she wants to perform a title search or a key word search\n",
    "def keysearch_or_titlesearch():\n",
    "    print(\"Type 'key' or 'title'\")\n",
    "    answer = \"\"\n",
    "    while answer != \"key\" and answer != \"title\":\n",
    "        answer = input(\"Key word search or full title search?: \")\n",
    "        answer = answer.strip()\n",
    "        answer = answer.lower()\n",
    "    return answer"
   ]
  },
  {
   "cell_type": "code",
   "execution_count": 5,
   "metadata": {},
   "outputs": [],
   "source": [
    "#Makes a book input appropriate for a key word/incomplete title search.\n",
    "def normalizer(book):\n",
    "    stripped = book.strip()\n",
    "    lowered = stripped.lower()\n",
    "    normalized_title = stripped.replace(\" \", \"%20\")\n",
    "    return(normalized_title)"
   ]
  },
  {
   "cell_type": "code",
   "execution_count": 6,
   "metadata": {},
   "outputs": [],
   "source": [
    "#Searcher defines the url, launches a urllib request, parses the XML result and turns it into a JSON object.\n",
    "def searcher(normalized_title):\n",
    "    url = 'https://lookup.dbpedia.org/api/prefix?query={}&QueryClass=Book'.format(normalized_title)\n",
    "    response = urllib.request.urlopen(url).read() #response from API\n",
    "    xml_obj = response #XML response in new variable\n",
    "    obj = xmltodict.parse(xml_obj) #parse the XML response\n",
    "    json_obj = json.dumps(obj, ensure_ascii=False) #convert XML response to JSON\n",
    "    data = json.loads(json_obj) #load the XML response as a JSON object\n",
    "    return(data)"
   ]
  },
  {
   "cell_type": "code",
   "execution_count": 7,
   "metadata": {},
   "outputs": [],
   "source": [
    "#list_of_possibilities stores all the books together with their count keys in a global dictionary count_and_title.\n",
    "#The code was written with the link we originally got. This always returned at least one result. \n",
    "#But now I had to add different scenarios:\n",
    "#code created for the following scenarios:\n",
    "    #If there is only one book, the result is a nested dictionary.\n",
    "    #If there are multiple books, the result is a list nested in two dictionaries.\n",
    "    #If there is no book, the dictionary will be empty.\n",
    "    \n",
    "def list_of_possibilities(data): \n",
    "    global count_and_title #define a global variable count_and_title\n",
    "    count_and_title={}\n",
    "    list_with_results = data['ArrayOfResults']\n",
    "    if not list_with_results: #If there are no results: set the dictionary to None.\n",
    "        count_and_title = None\n",
    "    else: \n",
    "        list_with_results = data['ArrayOfResults']['Result'] #go deeper into the json data\n",
    "        if type(list_with_results) == dict: #If there is only one book result: it is presented as a nested dictionary\n",
    "            result = data[\"ArrayOfResults\"][\"Result\"]\n",
    "            count = 1 #count will be the key in our dictionary\n",
    "            for k, v in result.items():\n",
    "                if k == \"Label\": #The title is always the value of the \"Label\" key\n",
    "                    title = v #store title in variable\n",
    "                    print(\"[{}]\".format(count), title) #print the list of options for the user\n",
    "                    normalized_title = normalizer(title) #normalize the title\n",
    "                    count_and_title[count] = title #add key (count) and title to the dictionary\n",
    "                elif k == \"URI\":\n",
    "                    uri = v\n",
    "    \n",
    "        else: #If there are multiple book results\n",
    "            for book in range(len(list_with_results)): #book = length of list_with_results\n",
    "                result = data[\"ArrayOfResults\"][\"Result\"][book] #we go deeper into the dic + specify a list object (= one book)\n",
    "                count = book + 1 #+one, because otherwise it starts at 0 and this is not intuitive for the user\n",
    "                for k, v in result.items(): #book object is a dictionary in a list. Iterate over book dictionary.\n",
    "                    if k == \"Label\": #label is always the title.\n",
    "                        title = v\n",
    "                        print(\"[{}]\".format(count), title) #print the title. Same as above.\n",
    "                        normalized_title = normalizer(title) #normalize title.\n",
    "                        count_and_title[count] = title #add to dictionary.\n",
    "                    elif k == \"URI\":\n",
    "                        uri = v"
   ]
  },
  {
   "cell_type": "code",
   "execution_count": 8,
   "metadata": {},
   "outputs": [],
   "source": [
    "def user_input():\n",
    "    checker=0\n",
    "    while checker==0: #if the book input is not good, the while will continue ENDLESSLY until it's correct!\n",
    "        book = input(\"What book title are you after? Enter (part of) a title  or a keyword: \") #ask for a key word/part of a title\n",
    "        normalized_title = normalizer(book) #normalize the title\n",
    "        list_with_results = searcher(normalized_title) #turn fetched XML object into a JSON object and store in variable \n",
    "        list_of_possibilities(list_with_results) #look in the dictionary count_and_title defined in list_of_possibilities()\n",
    "        if not count_and_title: #if the dictionary is empty, the book is not there. I only got this problem with the new link.\n",
    "            print(\"This book was not found!\") #print that the book is not there and continue\n",
    "            continue\n",
    "        print(\"Type [bold green]yes[/bold green]|[bold red]no[/bold red] !\") #if the book is there:    \n",
    "        in_options = input(\"Is the book you're looking for in this list?: \") #is the book in the list? Yes/no\n",
    "        answer = normalizer(in_options) #normalize the input\n",
    "        if answer == \"yes\": #if the answer = yes, break the loop and return book\n",
    "            checker=1\n",
    "        elif answer == \"no\": #if the answer = no, loading bar + back to main page\n",
    "            print(\"Let me take you back!\")\n",
    "            for num in tqdm(range(100), desc= \"Going back to main page...\"):\n",
    "                time.sleep(0.01)\n",
    "    return(book)"
   ]
  },
  {
   "cell_type": "code",
   "execution_count": 9,
   "metadata": {},
   "outputs": [],
   "source": [
    "#A function to make the title approrpiate for the http://dbpedia.org/data/{}.json link,\n",
    "#by stripping and replacing spaces with an underscore.\n",
    "def capitalizer(title):\n",
    "    stripped = title.strip()\n",
    "    underscored = stripped.replace(\" \",\"_\")\n",
    "    return(underscored)"
   ]
  },
  {
   "cell_type": "code",
   "execution_count": 10,
   "metadata": {},
   "outputs": [],
   "source": [
    "#The user gets a list of book titles and a number. \n",
    "#The user gets to pick one for which (s)he wants more information.\n",
    "def choice_in_dictionary(count_and_title):\n",
    "    choice = input(\"Enter the number of the book you're looking for: \") \n",
    "    while choice not in [\"1\",\"2\",\"3\",\"4\",\"5\",\"6\",\"7\",\"8\",\"9\",\"10\"]: #Maximally 10 hits are returned.\n",
    "        print(\"uh-oh, that was not a correct input!\") \n",
    "        choice = input(\"Enter the number of the book you're looking for: \")\n",
    "    choice = int(choice) #input is always str. Change to integer to search the dictionary.\n",
    "    if choice in count_and_title.keys():\n",
    "        json_title = count_and_title.get(choice) #json title = the title of your choice\n",
    "        json_title = capitalizer(json_title)\n",
    "        new_url = \"http://dbpedia.org/data/{}.json\".format(json_title)\n",
    "        return new_url, json_title #new url in .json format, and the title made appropriate for the JSON-link\n",
    "    return None, None #if empty: return none for both"
   ]
  },
  {
   "cell_type": "code",
   "execution_count": 11,
   "metadata": {},
   "outputs": [],
   "source": [
    "def title_search(): #if the user wants to search based on a title. Then this becomes new_url, json_title\n",
    "    book_title = input(\"Enter the complete title of the book: \") #this is case-sensitive!\n",
    "    book_title = capitalizer(book_title) #strip and underscore\n",
    "    title_url = \"http://dbpedia.org/data/{}.json\".format(book_title) #json_title\n",
    "    return title_url, book_title"
   ]
  },
  {
   "cell_type": "code",
   "execution_count": 12,
   "metadata": {},
   "outputs": [],
   "source": [
    "def get_json_response(new_url, json_title): #return json_results for that particular book\n",
    "    json_response = urllib.request.urlopen(new_url) \n",
    "    json_data = json.loads(json_response.read()) #read in JSON data for \"http://dbpedia.org/data/{}.json\"\n",
    "    \n",
    "    for k,v in json_data.items():\n",
    "        if k == \"http://dbpedia.org/resource/{}\".format(json_title):\n",
    "            json_results = v #list of json results for that particular book\n",
    "            return(json_results)\n",
    "    return(None)"
   ]
  },
  {
   "cell_type": "code",
   "execution_count": 13,
   "metadata": {},
   "outputs": [],
   "source": [
    "#We use the json url to fetch information: abstract.\n",
    "#We iterate over the dictionaries and lists until we reach \"http://dbpedia.org/ontology/abstract.\"\n",
    "#we only take the ENGLISH abstract and ignore translations.\n",
    "#We store the abstract in a variable.\n",
    "#If the abstract is not there, return a string error message. This works because abstract would also be of type string.\n",
    "\n",
    "def get_abstract(json_results): \n",
    "    for key, value in json_results.items():\n",
    "        if key == \"http://dbpedia.org/ontology/abstract\":\n",
    "            for language in value:\n",
    "                for keys, values in language.items():\n",
    "                    if values == \"en\":\n",
    "                        English_element = language #access only the English element out of the json results\n",
    "                        for k, v in English_element.items():\n",
    "                            if k == \"value\":\n",
    "                                abstract = v\n",
    "    error_message = \"Abstract was not available!\"\n",
    "    return(error_message)"
   ]
  },
  {
   "cell_type": "code",
   "execution_count": 14,
   "metadata": {},
   "outputs": [],
   "source": [
    "def unlink(link): #Remove the link bit to print stuff nicely in string format\n",
    "    remove = \"http://dbpedia.org/resource/\"\n",
    "    needed = link.replace(remove, \"\")\n",
    "    needed = needed.replace(\"_\", \" \")\n",
    "    return(needed)"
   ]
  },
  {
   "cell_type": "code",
   "execution_count": 15,
   "metadata": {},
   "outputs": [],
   "source": [
    "#We use the json url to fetch information: literary genre\n",
    "\n",
    "def get_literary_genre(json_results):\n",
    "    for key, value in json_results.items():\n",
    "        if key ==\"http://dbpedia.org/ontology/literaryGenre\":\n",
    "            for genre in value:\n",
    "                for keys, values in genre.items():\n",
    "                    if keys == \"value\":\n",
    "                        genre_link = values\n",
    "                        genre_str = unlink(genre_link)\n",
    "                        return(genre_str)\n",
    "    error_message = \"Literary genre was not available!\"\n",
    "    return(error_message)"
   ]
  },
  {
   "cell_type": "code",
   "execution_count": 16,
   "metadata": {},
   "outputs": [],
   "source": [
    "#Use the JSON url to fetch information: author name\n",
    "\n",
    "def get_author(json_results):\n",
    "    for key, value in json_results.items():\n",
    "        if key ==\"http://dbpedia.org/ontology/author\":\n",
    "            for author in value:\n",
    "                for keys, values in author.items():\n",
    "                    if keys ==\"value\":\n",
    "                        author_link = values\n",
    "                        author_str = unlink(author_link)\n",
    "                        return(author_str)\n",
    "    error_message = \"Author was not available!\"\n",
    "    return(error_message)"
   ]
  },
  {
   "cell_type": "code",
   "execution_count": 17,
   "metadata": {},
   "outputs": [],
   "source": [
    "#Use JSON url to fetch information: publication date\n",
    "def get_date_published(json_results):\n",
    "    for key, value in json_results.items():\n",
    "        if key == \"http://dbpedia.org/ontology/publicationDate\":\n",
    "            for date in value:\n",
    "                for keys, values in date.items():\n",
    "                    if keys == \"value\":\n",
    "                        date_published = values\n",
    "                        return(date_published)\n",
    "    error_message = \"Publication date was not available!\"\n",
    "    return(error_message)"
   ]
  },
  {
   "cell_type": "code",
   "execution_count": 18,
   "metadata": {},
   "outputs": [],
   "source": [
    "#Fetch the ISBN.\n",
    "#This will also be used to fetch images with the Open Library API! \n",
    "#Sadly, with the new link, there are very few ISBNs available. It used to work really well. :(\n",
    "def get_isbn(json_results):\n",
    "    for key, value in json_results.items():\n",
    "        if key == \"http://dbpedia.org/ontology/isbn\":\n",
    "            for isbn in value:\n",
    "                for keys, values in isbn.items():\n",
    "                    if keys ==\"value\":\n",
    "                        isbn_str = values\n",
    "                        return(isbn_str)\n",
    "    error_message = \"ISBN was not available!\"\n",
    "    return(error_message)"
   ]
  },
  {
   "cell_type": "code",
   "execution_count": 19,
   "metadata": {},
   "outputs": [],
   "source": [
    "def make_link_appropriate(name):\n",
    "    linked = name.replace(\" \", \"_\")\n",
    "    return(linked)"
   ]
  },
  {
   "cell_type": "code",
   "execution_count": 20,
   "metadata": {},
   "outputs": [],
   "source": [
    "#Fetch metadata: get more information on the author by putting the Author name into a new url. Fetch info from url.\n",
    "def get_more_info_author(author_name):\n",
    "    author_name = make_link_appropriate(author_name)\n",
    "    author_url = \"http://dbpedia.org/data/{}.json\".format(author_name)\n",
    "    author_json_results = get_json_response(author_url, author_name)\n",
    "    if author_json_results == None: #if author is not available, just return None.\n",
    "        return(None)\n",
    "    else: \n",
    "        return(author_json_results)"
   ]
  },
  {
   "cell_type": "code",
   "execution_count": 21,
   "metadata": {},
   "outputs": [],
   "source": [
    "#Get a little abstract about the author. If not available: error message.\n",
    "def get_author_abstract(author_json_results):\n",
    "    for k, v in author_json_results.items(): #get abstract \n",
    "        if k == \"http://dbpedia.org/ontology/abstract\":\n",
    "            for abstracts in v:\n",
    "                for k, v in abstracts.items():\n",
    "                    if v == \"en\":\n",
    "                        English_abstract = abstracts\n",
    "                        for k, v in English_abstract.items():\n",
    "                            if k == \"value\":\n",
    "                                author_abstract = v\n",
    "                                return(author_abstract)\n",
    "    error_message = \"Author abstract was not available!\"\n",
    "    return(error_message)"
   ]
  },
  {
   "cell_type": "code",
   "execution_count": 22,
   "metadata": {},
   "outputs": [],
   "source": [
    "#Get the birth name of the author if available. If not: error message.\n",
    "def get_author_birthname(author_json_results):\n",
    "    for k, v in author_json_results.items(): #get birth name\n",
    "        if k == \"http://dbpedia.org/ontology/birthName\":\n",
    "            for name in v:\n",
    "                for k, v in name.items():\n",
    "                    if k == \"value\":\n",
    "                        birthname = v\n",
    "                        return(birthname)\n",
    "    error_message = \"Author birthname was not available!\"\n",
    "    return(error_message)\n",
    "    "
   ]
  },
  {
   "cell_type": "code",
   "execution_count": 23,
   "metadata": {},
   "outputs": [],
   "source": [
    "#Get the birth date of the author if available. If not: error message.\n",
    "def get_author_birth_date(author_json_results):\n",
    "    for k,v in author_json_results.items(): #get birth date \n",
    "        if k == \"http://dbpedia.org/ontology/birthDate\":\n",
    "            for date in v:\n",
    "                for k, v in date.items():\n",
    "                    if k == \"value\":\n",
    "                        birthdate = v \n",
    "                        return(birthdate)\n",
    "    error_message = \"Author birth date was not available!\"\n",
    "    return(error_message)"
   ]
  },
  {
   "cell_type": "code",
   "execution_count": 24,
   "metadata": {},
   "outputs": [],
   "source": [
    "#Normalize the ISBN to fetch an image from the Open Library API. Make it link-appropriate.\n",
    "#As mentioned above, there are very few ISBNs available with the new link, which is very sad because it worked so well before.\n",
    "def isbn_normalizer(isbn):\n",
    "    isbn = isbn.replace(\"-\", \"\")\n",
    "    return(isbn)"
   ]
  },
  {
   "cell_type": "code",
   "execution_count": 25,
   "metadata": {},
   "outputs": [],
   "source": [
    "#Fetch the image, make it Jupyter Notebook-readable.\n",
    "def get_image(isbn):\n",
    "    isbn = isbn_normalizer(isbn)\n",
    "    image_url = \"http://covers.openlibrary.org/b/isbn/{}-M.jpg\".format(isbn)\n",
    "    response = requests.get(image_url)\n",
    "    img = Image.open(BytesIO(response.content))\n",
    "    return img"
   ]
  },
  {
   "cell_type": "code",
   "execution_count": 26,
   "metadata": {},
   "outputs": [],
   "source": [
    "#Print all the information in a pretty way with the rich package!\n",
    "def pretty_print_all_results(title, abstract, genre, author, date_published, isbn, author_abstract, birth_name, birth_date, image): #also add title\n",
    "    print(\"[bold][u]{}[/bold][/u]\".format(unlink(json_title)))\n",
    "    imgplot = plt.imshow(image)\n",
    "    plt.axis(\"off\")\n",
    "    plt.show()\n",
    "    print(\"[bold]Book summary:[/bold] {}\".format(abstract))\n",
    "    print(\"[bold]Literary genre:[/bold] {}\".format(genre))\n",
    "    print(\"[bold]Date Published:[/bold] {}\".format(date_published))\n",
    "    print(\"[bold]ISBN code:[/bold] {}\".format(isbn))\n",
    "    \n",
    "    print(\"[bold blue][u] Author Info [/bold blue][/u]\")\n",
    "    \n",
    "    print(\"[bold blue]Author name:[/bold blue] {}\".format(author)) #print auteur als laatste zodat je nog extra info kan printen\n",
    "    print(\"[bold blue]Author info:[/bold blue] {}\".format(author_abstract))\n",
    "    print(\"[bold blue]Birth name:[/bold blue] {}\".format(birth_name))\n",
    "    print(\"[bold blue]Birth date:[/bold blue] {}\".format(birth_date))\n",
    "    "
   ]
  },
  {
   "cell_type": "code",
   "execution_count": 28,
   "metadata": {},
   "outputs": [
    {
     "data": {
      "text/html": [
       "<pre style=\"white-space:pre;overflow-x:auto;line-height:normal;font-family:Menlo,'DejaVu Sans Mono',consolas,'Courier New',monospace\"><span style=\"color: #000080\">------------------------------------------------------------</span>\n",
       "</pre>\n"
      ],
      "text/plain": [
       "<rich.jupyter.JupyterRenderable at 0x24e663ed910>"
      ]
     },
     "metadata": {},
     "output_type": "display_data"
    },
    {
     "data": {
      "text/html": [
       "<pre style=\"white-space:pre;overflow-x:auto;line-height:normal;font-family:Menlo,'DejaVu Sans Mono',consolas,'Courier New',monospace\">            <span style=\"color: #008000; font-weight: bold\">THE DBPEDIA </span><span style=\"color: #008080; font-weight: bold\">BOOK</span><span style=\"color: #008000; font-weight: bold\"> LOOKUP TOOL</span>\n",
       "</pre>\n"
      ],
      "text/plain": [
       "<rich.jupyter.JupyterRenderable at 0x24e628d04f0>"
      ]
     },
     "metadata": {},
     "output_type": "display_data"
    },
    {
     "data": {
      "text/html": [
       "<pre style=\"white-space:pre;overflow-x:auto;line-height:normal;font-family:Menlo,'DejaVu Sans Mono',consolas,'Courier New',monospace\"><span style=\"color: #000080\">------------------------------------------------------------</span>\n",
       "</pre>\n"
      ],
      "text/plain": [
       "<rich.jupyter.JupyterRenderable at 0x24e628ee5e0>"
      ]
     },
     "metadata": {},
     "output_type": "display_data"
    },
    {
     "data": {
      "text/html": [
       "<pre style=\"white-space:pre;overflow-x:auto;line-height:normal;font-family:Menlo,'DejaVu Sans Mono',consolas,'Courier New',monospace\"><span style=\"font-weight: bold; text-decoration: underline\">How does this search method work?</span>\n",
       "</pre>\n"
      ],
      "text/plain": [
       "<rich.jupyter.JupyterRenderable at 0x24e628d02e0>"
      ]
     },
     "metadata": {},
     "output_type": "display_data"
    },
    {
     "data": {
      "text/html": [
       "<pre style=\"white-space:pre;overflow-x:auto;line-height:normal;font-family:Menlo,'DejaVu Sans Mono',consolas,'Courier New',monospace\"><span style=\"font-weight: bold\">Key word search</span>: Search on key words or incomplete titles. This method is not case-sensitive.\n",
       "</pre>\n"
      ],
      "text/plain": [
       "<rich.jupyter.JupyterRenderable at 0x24e628d02e0>"
      ]
     },
     "metadata": {},
     "output_type": "display_data"
    },
    {
     "data": {
      "text/html": [
       "<pre style=\"white-space:pre;overflow-x:auto;line-height:normal;font-family:Menlo,'DejaVu Sans Mono',consolas,'Courier New',monospace\"><span style=\"font-weight: bold\">Title search</span>: Search on complete titles. This method is <span style=\"font-weight: bold\">case-sensitive</span>!\n",
       "</pre>\n"
      ],
      "text/plain": [
       "<rich.jupyter.JupyterRenderable at 0x24e628ee5e0>"
      ]
     },
     "metadata": {},
     "output_type": "display_data"
    },
    {
     "data": {
      "text/html": [
       "<pre style=\"white-space:pre;overflow-x:auto;line-height:normal;font-family:Menlo,'DejaVu Sans Mono',consolas,'Courier New',monospace\">_____________________________________________________________________\n",
       "</pre>\n"
      ],
      "text/plain": [
       "<rich.jupyter.JupyterRenderable at 0x24e628ee460>"
      ]
     },
     "metadata": {},
     "output_type": "display_data"
    },
    {
     "data": {
      "text/html": [
       "<pre style=\"white-space:pre;overflow-x:auto;line-height:normal;font-family:Menlo,'DejaVu Sans Mono',consolas,'Courier New',monospace\">Type <span style=\"color: #008000\">'key'</span> or <span style=\"color: #008000\">'title'</span>\n",
       "</pre>\n"
      ],
      "text/plain": [
       "<rich.jupyter.JupyterRenderable at 0x24e628d0430>"
      ]
     },
     "metadata": {},
     "output_type": "display_data"
    },
    {
     "name": "stdout",
     "output_type": "stream",
     "text": [
      "Key word search or full title search?: key\n",
      "What book title are you after? Enter (part of) a title  or a keyword: wonderland\n"
     ]
    },
    {
     "data": {
      "text/html": [
       "<pre style=\"white-space:pre;overflow-x:auto;line-height:normal;font-family:Menlo,'DejaVu Sans Mono',consolas,'Courier New',monospace\"><span style=\"font-weight: bold\">[</span><span style=\"color: #000080; font-weight: bold\">1</span><span style=\"font-weight: bold\">]</span> Wonderland <span style=\"font-weight: bold\">(</span>novella<span style=\"font-weight: bold\">)</span>\n",
       "</pre>\n"
      ],
      "text/plain": [
       "<rich.jupyter.JupyterRenderable at 0x24e628d5700>"
      ]
     },
     "metadata": {},
     "output_type": "display_data"
    },
    {
     "data": {
      "text/html": [
       "<pre style=\"white-space:pre;overflow-x:auto;line-height:normal;font-family:Menlo,'DejaVu Sans Mono',consolas,'Courier New',monospace\"><span style=\"font-weight: bold\">[</span><span style=\"color: #000080; font-weight: bold\">2</span><span style=\"font-weight: bold\">]</span> Wonderland <span style=\"font-weight: bold\">(</span>novel<span style=\"font-weight: bold\">)</span>\n",
       "</pre>\n"
      ],
      "text/plain": [
       "<rich.jupyter.JupyterRenderable at 0x24e628d02e0>"
      ]
     },
     "metadata": {},
     "output_type": "display_data"
    },
    {
     "data": {
      "text/html": [
       "<pre style=\"white-space:pre;overflow-x:auto;line-height:normal;font-family:Menlo,'DejaVu Sans Mono',consolas,'Courier New',monospace\"><span style=\"font-weight: bold\">[</span><span style=\"color: #000080; font-weight: bold\">3</span><span style=\"font-weight: bold\">]</span> Wonderland Avenue\n",
       "</pre>\n"
      ],
      "text/plain": [
       "<rich.jupyter.JupyterRenderable at 0x24e628d01f0>"
      ]
     },
     "metadata": {},
     "output_type": "display_data"
    },
    {
     "data": {
      "text/html": [
       "<pre style=\"white-space:pre;overflow-x:auto;line-height:normal;font-family:Menlo,'DejaVu Sans Mono',consolas,'Courier New',monospace\"><span style=\"font-weight: bold\">[</span><span style=\"color: #000080; font-weight: bold\">4</span><span style=\"font-weight: bold\">]</span> Wonderland Revisited and the Games Alice Played There\n",
       "</pre>\n"
      ],
      "text/plain": [
       "<rich.jupyter.JupyterRenderable at 0x24e628d5700>"
      ]
     },
     "metadata": {},
     "output_type": "display_data"
    },
    {
     "data": {
      "text/html": [
       "<pre style=\"white-space:pre;overflow-x:auto;line-height:normal;font-family:Menlo,'DejaVu Sans Mono',consolas,'Courier New',monospace\">Type <span style=\"color: #008000; font-weight: bold\">yes</span>|<span style=\"color: #800000; font-weight: bold\">no</span> !\n",
       "</pre>\n"
      ],
      "text/plain": [
       "<rich.jupyter.JupyterRenderable at 0x24e628d0430>"
      ]
     },
     "metadata": {},
     "output_type": "display_data"
    },
    {
     "name": "stdout",
     "output_type": "stream",
     "text": [
      "Is the book you're looking for in this list?: yes\n",
      "Enter the number of the book you're looking for: 1\n"
     ]
    },
    {
     "data": {
      "text/html": [
       "<pre style=\"white-space:pre;overflow-x:auto;line-height:normal;font-family:Menlo,'DejaVu Sans Mono',consolas,'Courier New',monospace\"><span style=\"font-weight: bold; text-decoration: underline\">Wonderland (novella)</span>\n",
       "</pre>\n"
      ],
      "text/plain": [
       "<rich.jupyter.JupyterRenderable at 0x24e637384c0>"
      ]
     },
     "metadata": {},
     "output_type": "display_data"
    },
    {
     "data": {
      "image/png": "[encoded data removed]",
      "text/plain": [
       "<Figure size 432x288 with 1 Axes>"
      ]
     },
     "metadata": {
      "needs_background": "light"
     },
     "output_type": "display_data"
    },
    {
     "data": {
      "text/html": [
       "<pre style=\"white-space:pre;overflow-x:auto;line-height:normal;font-family:Menlo,'DejaVu Sans Mono',consolas,'Courier New',monospace\"><span style=\"font-weight: bold\">Book summary:</span> Abstract was not available!\n",
       "</pre>\n"
      ],
      "text/plain": [
       "<rich.jupyter.JupyterRenderable at 0x24e637384c0>"
      ]
     },
     "metadata": {},
     "output_type": "display_data"
    },
    {
     "data": {
      "text/html": [
       "<pre style=\"white-space:pre;overflow-x:auto;line-height:normal;font-family:Menlo,'DejaVu Sans Mono',consolas,'Courier New',monospace\"><span style=\"font-weight: bold\">Literary genre:</span> Literary genre was not available!\n",
       "</pre>\n"
      ],
      "text/plain": [
       "<rich.jupyter.JupyterRenderable at 0x24e637384c0>"
      ]
     },
     "metadata": {},
     "output_type": "display_data"
    },
    {
     "data": {
      "text/html": [
       "<pre style=\"white-space:pre;overflow-x:auto;line-height:normal;font-family:Menlo,'DejaVu Sans Mono',consolas,'Courier New',monospace\"><span style=\"font-weight: bold\">Date Published:</span> Publication date was not available!\n",
       "</pre>\n"
      ],
      "text/plain": [
       "<rich.jupyter.JupyterRenderable at 0x24e663edee0>"
      ]
     },
     "metadata": {},
     "output_type": "display_data"
    },
    {
     "data": {
      "text/html": [
       "<pre style=\"white-space:pre;overflow-x:auto;line-height:normal;font-family:Menlo,'DejaVu Sans Mono',consolas,'Courier New',monospace\"><span style=\"font-weight: bold\">ISBN code:</span> <span style=\"color: #000080; font-weight: bold\">1</span>-<span style=\"color: #000080; font-weight: bold\">903889</span>-<span style=\"color: #000080; font-weight: bold\">14</span>-<span style=\"color: #000080; font-weight: bold\">6</span>\n",
       "</pre>\n"
      ],
      "text/plain": [
       "<rich.jupyter.JupyterRenderable at 0x24e663edee0>"
      ]
     },
     "metadata": {},
     "output_type": "display_data"
    },
    {
     "data": {
      "text/html": [
       "<pre style=\"white-space:pre;overflow-x:auto;line-height:normal;font-family:Menlo,'DejaVu Sans Mono',consolas,'Courier New',monospace\"><span style=\"color: #000080; font-weight: bold; text-decoration: underline\"> Author Info </span>\n",
       "</pre>\n"
      ],
      "text/plain": [
       "<rich.jupyter.JupyterRenderable at 0x24e65c119d0>"
      ]
     },
     "metadata": {},
     "output_type": "display_data"
    },
    {
     "data": {
      "text/html": [
       "<pre style=\"white-space:pre;overflow-x:auto;line-height:normal;font-family:Menlo,'DejaVu Sans Mono',consolas,'Courier New',monospace\"><span style=\"color: #000080; font-weight: bold\">Author name:</span> Mark Chadbourn\n",
       "</pre>\n"
      ],
      "text/plain": [
       "<rich.jupyter.JupyterRenderable at 0x24e65c119d0>"
      ]
     },
     "metadata": {},
     "output_type": "display_data"
    },
    {
     "data": {
      "text/html": [
       "<pre style=\"white-space:pre;overflow-x:auto;line-height:normal;font-family:Menlo,'DejaVu Sans Mono',consolas,'Courier New',monospace\"><span style=\"color: #000080; font-weight: bold\">Author info:</span> Mark Chadbourn is an English fantasy, science fiction, historical fiction, and \n",
       "horror author with more than a dozen novels <span style=\"font-weight: bold\">(</span>and one non-fiction book<span style=\"font-weight: bold\">)</span> published around the \n",
       "world. Born in the English Midlands from a long line of coal miners. he gained a degree in \n",
       "Economic History and went on to become a journalist, working for some of Britain<span style=\"color: #008000\">'s leading </span>\n",
       "<span style=\"color: #008000\">newspapers and magazines including The Times, The Independent, and Marie Claire. His writing </span>\n",
       "<span style=\"color: #008000\">career began in 1990 when his first published short story Six Dead Boys in a Very Dark World </span>\n",
       "<span style=\"color: #008000\">won Fear magazine'</span>s Best New Author award. It attracted the attention of agents and \n",
       "publishers. Six of his novels have been shortlisted for the British Fantasy Society<span style=\"color: #008000\">'s August </span>\n",
       "<span style=\"color: #008000\">Derleth Award for Best Novel, and he has won the British Fantasy Award twice, for his novella</span>\n",
       "<span style=\"color: #008000\">The Fairy Feller'</span>s Master-Stroke<span style=\"font-weight: bold\">(</span><span style=\"color: #000080; font-weight: bold\">2003</span><span style=\"font-weight: bold\">)</span>, and for his short story Whisper Lane<span style=\"font-weight: bold\">(</span><span style=\"color: #000080; font-weight: bold\">2007</span><span style=\"font-weight: bold\">)</span>. His novel\n",
       "Jack of Ravens was published in the UK on <span style=\"color: #000080; font-weight: bold\">20</span> July <span style=\"color: #000080; font-weight: bold\">2006</span>. It is the first in a new sequence \n",
       "called Kingdom of the Serpent. The second book, The Burning Man, was published in April <span style=\"color: #000080; font-weight: bold\">2008</span>.\n",
       "The final book in the trilogy, Destroyer of Worlds, has been published in July <span style=\"color: #000080; font-weight: bold\">2009</span>. The \n",
       "earlier books include two series, The Age of Misrule and The Dark Age. Mark has been \n",
       "described as <span style=\"color: #008000\">'a contemporary bard - a post-industrial Taliesin whose visionary novels are </span>\n",
       "<span style=\"color: #008000\">crammed with remixed mythologies, oneiric set pieces, potent symbols, unsettling imagery and </span>\n",
       "<span style=\"color: #008000\">an engaging fusion of genre elements. The author'</span>s ambition is sustained by his invention: \n",
       "his work is distinguished by breakneck but brilliantly controlled plots, meticulous research,\n",
       "deft characterisation and a crisp, accessible prose style.' He also writes historical novels \n",
       "under the pseudonym <span style=\"color: #008000\">\"James Wilde\"</span>. In addition to his novels he also is a scriptwriter for \n",
       "the BBC drama Doctors. In <span style=\"color: #000080; font-weight: bold\">2014</span>, he announced on his website that his contemporary thriller TV\n",
       "series Shadow State had been optioned by Clerkenwell Films.\n",
       "</pre>\n"
      ],
      "text/plain": [
       "<rich.jupyter.JupyterRenderable at 0x24e65c119d0>"
      ]
     },
     "metadata": {},
     "output_type": "display_data"
    },
    {
     "data": {
      "text/html": [
       "<pre style=\"white-space:pre;overflow-x:auto;line-height:normal;font-family:Menlo,'DejaVu Sans Mono',consolas,'Courier New',monospace\"><span style=\"color: #000080; font-weight: bold\">Birth name:</span> Author birthname was not available!\n",
       "</pre>\n"
      ],
      "text/plain": [
       "<rich.jupyter.JupyterRenderable at 0x24e637384c0>"
      ]
     },
     "metadata": {},
     "output_type": "display_data"
    },
    {
     "data": {
      "text/html": [
       "<pre style=\"white-space:pre;overflow-x:auto;line-height:normal;font-family:Menlo,'DejaVu Sans Mono',consolas,'Courier New',monospace\"><span style=\"color: #000080; font-weight: bold\">Birth date:</span> <span style=\"color: #000080; font-weight: bold\">1960</span>-<span style=\"color: #000080; font-weight: bold\">1</span>-<span style=\"color: #000080; font-weight: bold\">13</span>\n",
       "</pre>\n"
      ],
      "text/plain": [
       "<rich.jupyter.JupyterRenderable at 0x24e637384c0>"
      ]
     },
     "metadata": {},
     "output_type": "display_data"
    },
    {
     "name": "stdout",
     "output_type": "stream",
     "text": [
      "Another book? Type yes | nono\n"
     ]
    },
    {
     "data": {
      "text/html": [
       "<pre style=\"white-space:pre;overflow-x:auto;line-height:normal;font-family:Menlo,'DejaVu Sans Mono',consolas,'Courier New',monospace\"><span style=\"color: #800080; font-weight: bold\">Goodbye!</span> 😃\n",
       "</pre>\n"
      ],
      "text/plain": [
       "<rich.jupyter.JupyterRenderable at 0x24e637384c0>"
      ]
     },
     "metadata": {},
     "output_type": "display_data"
    },
    {
     "data": {
      "text/html": [
       "<pre style=\"white-space:pre;overflow-x:auto;line-height:normal;font-family:Menlo,'DejaVu Sans Mono',consolas,'Courier New',monospace\"><span style=\"text-decoration: underline\">Thank you</span> for using our DBPEDIA book lookup tool!\n",
       "</pre>\n"
      ],
      "text/plain": [
       "<rich.jupyter.JupyterRenderable at 0x24e637384c0>"
      ]
     },
     "metadata": {},
     "output_type": "display_data"
    }
   ],
   "source": [
    "\"\"\" Main code gives the user two options:\n",
    "1) Key word/incomplete title search\n",
    "2) Rigid case-sensitive title search\n",
    "\n",
    "for scenario 1:\n",
    "> app returns a list of options and lets the user choose from the list\n",
    "\n",
    "for scenario 2:\n",
    "> you immediately get the result if you type in a correct title.\n",
    "\n",
    "\n",
    "For both scenarios, we eventually get:\n",
    "\n",
    "Book data and metadata:\n",
    "> book title\n",
    "\n",
    "> a book cover if available. (Open Library Covers)\n",
    ">>>>> NOTE: as mentioned prior: ISBNs used to be almost always available with the old link we got.\n",
    "            Sadly, the new link rarely returns ISBNs. The function still works for books which have an ISBN number.\n",
    "            If you want to test this function, look for e.g.:\n",
    "                      - Harry Potter and the Deathly Hallows\n",
    "                      - Wonderland (novella). \n",
    "            It used to work very well with the old link. :(\n",
    "\n",
    "> book abstract\n",
    "> literary genre\n",
    "> isbn\n",
    "\n",
    "Author metadata:\n",
    "> author name\n",
    "> author info\n",
    "> birth name\n",
    "> birth date\n",
    "\n",
    "It initiates the while loop until it is broken by the user if he/she doesn't want to look for a book anymore.\n",
    "\n",
    "\"\"\"\n",
    "\n",
    "print_header()\n",
    "doorgaan=1\n",
    "while doorgaan==1:\n",
    "    answer = keysearch_or_titlesearch()\n",
    "    if answer == \"title\":  \n",
    "        new_url, json_title = title_search()\n",
    "        if new_url ==None or json_title ==None:\n",
    "            print(\"There was no info available for this book!\")\n",
    "            continue\n",
    "        json_results = get_json_response(new_url, json_title)\n",
    "        if json_results == None:\n",
    "            print(\"There was no info available for this book!\")\n",
    "            continue\n",
    "        abstract = get_abstract(json_results)\n",
    "        genre = get_literary_genre(json_results)\n",
    "        author = get_author(json_results)\n",
    "        date_published = get_date_published(json_results)\n",
    "        isbn = get_isbn(json_results)\n",
    "        author_json_results = get_more_info_author(author)\n",
    "        if author_json_results == None:\n",
    "            print(\"There was no info available for this book!\")\n",
    "            continue\n",
    "        author_abstract = get_author_abstract(author_json_results)\n",
    "        birth_name = get_author_birthname(author_json_results)\n",
    "        birth_date = get_author_birth_date(author_json_results)\n",
    "        image= get_image(isbn)\n",
    "\n",
    "        pretty_print_all_results(json_title, abstract, genre, author, date_published, isbn, author_abstract, birth_name, birth_date,  image)\n",
    "        \n",
    "        vraag = \"\"\n",
    "        while vraag not in [\"yes\", \"no\"]: #keep asking until user says yes or no\n",
    "            vraag=input(\"Another book? Type yes | no\") #ask user if he/she wants to look for another book\n",
    "            if vraag==\"no\": #print goodbye message\n",
    "                time.sleep(0.5)\n",
    "                print(\"[bold magenta]Goodbye![/bold magenta] :smiley:\")\n",
    "                print(\"[u]Thank you[/u] for using our DBPEDIA book lookup tool!\")\n",
    "                doorgaan=0\n",
    "            elif vraag==\"yes\":\n",
    "                print(\"Next round!\")\n",
    "\n",
    "\n",
    "    elif answer == \"key\":\n",
    "        book = user_input()\n",
    "        new_url, json_title = choice_in_dictionary(count_and_title)\n",
    "        if new_url ==None or json_title ==None:\n",
    "            print(\"There was no info available for this book!\")\n",
    "            continue\n",
    "        json_results = get_json_response(new_url, json_title)\n",
    "        if json_results == None:\n",
    "            print(\"There was no info available for this book!\")\n",
    "            continue\n",
    "        abstract = get_abstract(json_results)\n",
    "        genre = get_literary_genre(json_results)\n",
    "        author = get_author(json_results)\n",
    "        date_published = get_date_published(json_results)\n",
    "        isbn = get_isbn(json_results)\n",
    "\n",
    "        author_json_results = get_more_info_author(author)\n",
    "        if author_json_results == None:\n",
    "            print(\"There was no info available for this book!\")\n",
    "            continue\n",
    "        author_abstract = get_author_abstract(author_json_results)\n",
    "        birth_name = get_author_birthname(author_json_results)\n",
    "        birth_date = get_author_birth_date(author_json_results)\n",
    "        image = get_image(isbn)\n",
    "\n",
    "        pretty_print_all_results(json_title, abstract, genre, author, date_published, isbn, author_abstract, birth_name, birth_date, image)\n",
    "        \n",
    "        vraag = \"\"\n",
    "        while vraag not in [\"yes\", \"no\"]:\n",
    "            vraag=input(\"Another book? Type yes | no\")\n",
    "            if vraag==\"no\":\n",
    "                time.sleep(0.5)\n",
    "                print(\"[bold magenta]Goodbye![/bold magenta] :smiley:\")\n",
    "                print(\"[u]Thank you[/u] for using our DBPEDIA book lookup tool!\")\n",
    "                doorgaan=0\n",
    "            elif vraag==\"yes\":\n",
    "                print(\"Next round!\")"
   ]
  },
  {
   "cell_type": "code",
   "execution_count": null,
   "metadata": {},
   "outputs": [],
   "source": []
  }
 ],
 "metadata": {
  "kernelspec": {
   "display_name": "Python 3",
   "language": "python",
   "name": "python3"
  },
  "language_info": {
   "codemirror_mode": {
    "name": "ipython",
    "version": 3
   },
   "file_extension": ".py",
   "mimetype": "text/x-python",
   "name": "python",
   "nbconvert_exporter": "python",
   "pygments_lexer": "ipython3",
   "version": "3.8.3"
  }
 },
 "nbformat": 4,
 "nbformat_minor": 4
}
